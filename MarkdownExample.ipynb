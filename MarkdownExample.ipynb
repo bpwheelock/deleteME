{
 "cells": [
  {
   "cell_type": "markdown",
   "metadata": {},
   "source": [
    "# Introduction"
   ]
  },
  {
   "cell_type": "markdown",
   "metadata": {},
   "source": [
    "This notebook gives some examples of Jupyter markdown language.\n",
    "\n",
    "Don't worry that you might not understand all the code in this notebook, yet.  It's main prupose is to show you what markdown is possible and to provide a template."
   ]
  },
  {
   "cell_type": "markdown",
   "metadata": {},
   "source": [
    "# Preliminary Jupyter Environment Set-up"
   ]
  },
  {
   "cell_type": "markdown",
   "metadata": {},
   "source": [
    "The code below loads the required Python packages into the notebook."
   ]
  },
  {
   "cell_type": "code",
   "execution_count": null,
   "metadata": {
    "collapsed": true
   },
   "outputs": [],
   "source": [
    "import pandas as pd\n",
    "import matplotlib.pyplot as plt\n",
    "import seaborn as sns\n",
    "%matplotlib inline"
   ]
  },
  {
   "cell_type": "markdown",
   "metadata": {},
   "source": [
    "# Data Input"
   ]
  },
  {
   "cell_type": "markdown",
   "metadata": {},
   "source": [
    "The code below reads data in from a text file and loads it into a DataFrame object as defined by the pandas package.  In order for this cell to be executed successfully, the CSV file must be located in the same file folder as the Jupyter notebook."
   ]
  },
  {
   "cell_type": "code",
   "execution_count": null,
   "metadata": {
    "collapsed": true
   },
   "outputs": [],
   "source": [
    "df_oz = pd.read_csv('ozone.csv')"
   ]
  },
  {
   "cell_type": "markdown",
   "metadata": {},
   "source": [
    "Here is a quick look at the top five rows of the data:"
   ]
  },
  {
   "cell_type": "code",
   "execution_count": null,
   "metadata": {},
   "outputs": [],
   "source": [
    "df_oz.head()"
   ]
  },
  {
   "cell_type": "markdown",
   "metadata": {},
   "source": [
    "# Analysis"
   ]
  },
  {
   "cell_type": "markdown",
   "metadata": {},
   "source": [
    "Analysis can take the form of graphing as demonstrated below.  This first graph shows the relationship of Wind Speed and Ozone level."
   ]
  },
  {
   "cell_type": "code",
   "execution_count": null,
   "metadata": {},
   "outputs": [],
   "source": [
    "\"\"\" Format of the scatterplot method is as follows: ax.scatter(x-series, y-series) \"\"\"\n",
    "fig, ax = plt.subplots()\n",
    "ax.scatter(df_oz['wind'], df_oz['ozone'], alpha=0.5)  # the 'alpha' parameter controls dot opacity\n",
    "# alpha is a parameter that controls the transparency of the dots: 1 = solid, <1 = various transparency levels, 0 = no mark\n",
    "fig.suptitle('Ozone vs. Wind Speed')\n",
    "ax.xaxis.set_label_text('Wind Speed')\n",
    "ax.yaxis.set_label_text('Ozone')\n",
    "fig.set_size_inches(7,5)\n",
    "plt.show()"
   ]
  },
  {
   "cell_type": "markdown",
   "metadata": {},
   "source": [
    "This next graph uses a Python package called Seaborn to investigate the relationships of multiple variables simulataneously."
   ]
  },
  {
   "cell_type": "code",
   "execution_count": null,
   "metadata": {},
   "outputs": [],
   "source": [
    "sns.set(style=\"ticks\", color_codes=True)\n",
    "g = sns.pairplot(df_oz)\n",
    "g.savefig('ozone.jpg')"
   ]
  },
  {
   "cell_type": "markdown",
   "metadata": {},
   "source": [
    "This cell really has nothing to do with the preceding analysis, but it is simply an example of including *LaTex* typesetting language into a jupyter notebook.\n",
    "\n",
    "$\\sum_{i=0}^{n}{i} = \\frac{n(n+1)}{2}$"
   ]
  },
  {
   "cell_type": "markdown",
   "metadata": {},
   "source": [
    "# Conclusions"
   ]
  },
  {
   "cell_type": "markdown",
   "metadata": {},
   "source": [
    "This cell, mostly, is just a demonstration of bullet points of various formats:\n",
    "\n",
    "-  Ozone and Wind Speed are negatively correlated\n",
    "\n",
    "*  Ozone and Temperature are positively correlated\n",
    "\n",
    "-  Wind Speed and Radiation appear not to be correlated\n",
    "    -  The scatter plot is not tightly grouped around any postiviely or negatively-sloped line"
   ]
  },
  {
   "cell_type": "markdown",
   "metadata": {},
   "source": [
    "# You Can Include Images\n",
    "We will use some data about these three species of Iris.\n",
    "![title](AllIrisSpecies.jpg)"
   ]
  },
  {
   "cell_type": "markdown",
   "metadata": {},
   "source": [
    "# References"
   ]
  },
  {
   "cell_type": "markdown",
   "metadata": {},
   "source": [
    "The following links provide cheatsheets on Jupyter markdown language."
   ]
  },
  {
   "cell_type": "markdown",
   "metadata": {},
   "source": [
    "[Link 1](https://beegit.com/markdown-cheat-sheet)\n",
    "\n",
    "[Link 2](https://medium.com/ibm-data-science-experience/markdown-for-jupyter-notebooks-cheatsheet-386c05aeebed)\n",
    "\n",
    "[Link 3](https://datascience.ibm.com/docs/content/analyze-data/markd-jupyter.html)\n",
    "\n",
    "[Link 4](http://jupyter-notebook.readthedocs.io/en/stable/examples/Notebook/Working%20With%20Markdown%20Cells.html)\n",
    "\n",
    "[Link 5](https://github.com/adam-p/markdown-here/wiki/Markdown-Cheatsheet)\n",
    "\n",
    "[Link 6](http://nestacms.com/docs/creating-content/markdown-cheat-sheet)"
   ]
  },
  {
   "cell_type": "code",
   "execution_count": null,
   "metadata": {
    "collapsed": true
   },
   "outputs": [],
   "source": []
  }
 ],
 "metadata": {
  "kernelspec": {
   "display_name": "Python 3",
   "language": "python",
   "name": "python3"
  },
  "language_info": {
   "codemirror_mode": {
    "name": "ipython",
    "version": 3
   },
   "file_extension": ".py",
   "mimetype": "text/x-python",
   "name": "python",
   "nbconvert_exporter": "python",
   "pygments_lexer": "ipython3",
   "version": "3.6.3"
  }
 },
 "nbformat": 4,
 "nbformat_minor": 2
}
